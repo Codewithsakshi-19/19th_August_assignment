{
 "cells": [
  {
   "cell_type": "markdown",
   "id": "b7266df3-f9f5-4436-b8f2-6b8ecfa636e9",
   "metadata": {},
   "source": [
    "Python Basics Variable"
   ]
  },
  {
   "cell_type": "markdown",
   "id": "8e623db4-abb0-4d79-9f7a-7ff7b417a2dd",
   "metadata": {},
   "source": [
    "#1. Declare two variables, `x` and `y`, and assign them integer values. Swap the values of these variables without using any temporary variable."
   ]
  },
  {
   "cell_type": "code",
   "execution_count": 4,
   "id": "3bba77bd-5197-4269-9ac3-39193858d9ea",
   "metadata": {
    "tags": []
   },
   "outputs": [
    {
     "name": "stdout",
     "output_type": "stream",
     "text": [
      "After swapping:\n",
      "x = 20\n",
      "y = 10\n"
     ]
    }
   ],
   "source": [
    "#Initialize the variables with integer values\n",
    "x=10\n",
    "y=20\n",
    "\n",
    "#swapping without using a temporary variable\n",
    "x,y=y,x\n",
    "\n",
    "print(\"After swapping:\")\n",
    "print(\"x =\",x)\n",
    "print(\"y =\",y)"
   ]
  },
  {
   "cell_type": "markdown",
   "id": "8012d0f8-5b29-4ea6-8517-e71628a5b32d",
   "metadata": {},
   "source": [
    "#2. Create a program that calculates the area of a rectangle. Take the length and width as inputs from the user and store them in variables. Calculate and display the area."
   ]
  },
  {
   "cell_type": "code",
   "execution_count": 7,
   "id": "ece749fb-2f02-438b-92d7-777d50e86da4",
   "metadata": {},
   "outputs": [
    {
     "name": "stdin",
     "output_type": "stream",
     "text": [
      "enter the length of rectangle= 45.4\n",
      "enter the width of rectangle= 2.2\n"
     ]
    },
    {
     "name": "stdout",
     "output_type": "stream",
     "text": [
      "area of the rectangle is 99.88000000000001\n"
     ]
    }
   ],
   "source": [
    "#taking length and widh as input\n",
    "length=float(input(\"enter the length of rectangle=\"))\n",
    "Width=float(input(\"enter the width of rectangle=\"))\n",
    "\n",
    "#calculating the area of the rectangle\n",
    "print(f\"area of the rectangle is {length*Width}\")"
   ]
  },
  {
   "cell_type": "markdown",
   "id": "90d24a82-5fac-4a9b-99ab-674c50faf1b7",
   "metadata": {},
   "source": [
    "#3. Write a Python program that converts temperatures from Celsius to Fahrenheit. Take the temperature in Celsius as       input,store it in a variable,convert it to Fahrenheit, and display the result."
   ]
  },
  {
   "cell_type": "code",
   "execution_count": 21,
   "id": "c165caea-a863-48f4-bee7-a843fc0e81ea",
   "metadata": {},
   "outputs": [
    {
     "name": "stdin",
     "output_type": "stream",
     "text": [
      "Enter the temperature: 45.2\n"
     ]
    },
    {
     "name": "stdout",
     "output_type": "stream",
     "text": [
      " 45.2 celsius = 113.36 Fahrenheit\n"
     ]
    }
   ],
   "source": [
    "#taking celsius as input\n",
    "celsius=float(input(\"Enter the temperature:\"))\n",
    "\n",
    "#Convertind celsius into Fahrenheit\n",
    "result = celsius * 9/5 + 32\n",
    "\n",
    "#Display result\n",
    "print(f\" {celsius} celsius = {result} Fahrenheit\")"
   ]
  },
  {
   "cell_type": "markdown",
   "id": "bd454588-a0d4-4f4b-9804-1ece4383bd1f",
   "metadata": {},
   "source": [
    "String Based Questions"
   ]
  },
  {
   "cell_type": "markdown",
   "id": "4c0cc733-ce0d-4ed7-b908-81f473f48859",
   "metadata": {},
   "source": [
    "#1. Write a Python program that takes a string as input and prints the length of the string."
   ]
  },
  {
   "cell_type": "code",
   "execution_count": 20,
   "id": "f4facf89-d0b3-4abf-811f-e0e63d32b3d0",
   "metadata": {},
   "outputs": [
    {
     "name": "stdin",
     "output_type": "stream",
     "text": [
      "Enter the string: hi everyone\n"
     ]
    },
    {
     "name": "stdout",
     "output_type": "stream",
     "text": [
      "The length of the string is  11\n"
     ]
    }
   ],
   "source": [
    "#taking string input from user\n",
    "user_input=input(\"Enter the string:\")\n",
    "\n",
    "#calculating the length of the string\n",
    "string_len=len(user_input)\n",
    "\n",
    "#display the result\n",
    "print(\"The length of the string is \",string_len)\n",
    "\n",
    "\n"
   ]
  },
  {
   "cell_type": "markdown",
   "id": "8a495c85-2bb3-484b-86d3-369750bab31a",
   "metadata": {},
   "source": [
    "#2. Create a program that takes a sentence from the user and counts the number of vowels (a, e, i, o, u) in the string."
   ]
  },
  {
   "cell_type": "code",
   "execution_count": 2,
   "id": "7ee6bfc9-7ab3-4d6a-a9ff-d112744fd1d4",
   "metadata": {},
   "outputs": [
    {
     "name": "stdin",
     "output_type": "stream",
     "text": [
      "Enter a sentence:  hi guys\n"
     ]
    },
    {
     "name": "stdout",
     "output_type": "stream",
     "text": [
      "Number of vowels in the sentence: 2\n"
     ]
    }
   ],
   "source": [
    "# Get a sentence input from the user\n",
    "user_input = input(\"Enter a sentence: \")\n",
    "\n",
    "# Convert the input to lowercase to make the counting case-insensitive\n",
    "user_input_lower = user_input.lower()\n",
    "\n",
    "# Initialize a counter for vowels\n",
    "vowel_count = 0\n",
    "\n",
    "# Iterate through each character in the string\n",
    "for char in user_input_lower:\n",
    "    # Check if the character is a vowel\n",
    "    if char in \"aeiou\":\n",
    "        vowel_count += 1\n",
    "\n",
    "# Display the result\n",
    "print(\"Number of vowels in the sentence:\", vowel_count)\n"
   ]
  },
  {
   "cell_type": "markdown",
   "id": "87f7fa1e-80c6-489e-be42-68b06ca5eba1",
   "metadata": {},
   "source": [
    "#3. Given a string, reverse the order of characters using string slicing and print the reversed string."
   ]
  },
  {
   "cell_type": "code",
   "execution_count": 5,
   "id": "4a773e2d-e275-4ac0-abc6-0bf4e0cc02b3",
   "metadata": {},
   "outputs": [
    {
     "name": "stdin",
     "output_type": "stream",
     "text": [
      "enter a string: pwskills\n"
     ]
    },
    {
     "name": "stdout",
     "output_type": "stream",
     "text": [
      "Reverse of the string is sllikswp\n"
     ]
    }
   ],
   "source": [
    "#get a string input from user\n",
    "user_input=input(\"enter a string:\")\n",
    "\n",
    "#reverse a string\n",
    "reverse_input=user_input[::-1]\n",
    "\n",
    "#display the reverse string\n",
    "print(\"Reverse of the string is\",reverse_input)\n"
   ]
  },
  {
   "cell_type": "markdown",
   "id": "eecf0399-16fe-4464-ad21-56a26152de99",
   "metadata": {},
   "source": [
    "#4. Write a program that takes a string as input and checks if it is a palindrome (reads the same forwards and backwards)."
   ]
  },
  {
   "cell_type": "code",
   "execution_count": 11,
   "id": "ca624ab0-eedd-4724-8041-69f0d80352e8",
   "metadata": {},
   "outputs": [
    {
     "name": "stdin",
     "output_type": "stream",
     "text": [
      "Enter the string: Naman\n"
     ]
    },
    {
     "name": "stdout",
     "output_type": "stream",
     "text": [
      "String is not plaindrome\n"
     ]
    }
   ],
   "source": [
    "#taking string input from user\n",
    "user_input=input(\"Enter the string:\")\n",
    "\n",
    "#reverse the user string\n",
    "reverse_str=user_input[::-1]\n",
    "\n",
    "#check if the string is a plaindrome or not and siplay the result\n",
    "\n",
    "if user_input==reverse_str:\n",
    "    print(\"string is palindrome\")\n",
    "else:\n",
    "    print(\"String is not plaindrome\")\n"
   ]
  },
  {
   "cell_type": "markdown",
   "id": "52e47555-5edb-4439-881c-6aab0247415e",
   "metadata": {},
   "source": [
    "#5.Create a program that takes a string as input and removes all the spaces from it. Print the modified string without spaces."
   ]
  },
  {
   "cell_type": "code",
   "execution_count": 17,
   "id": "181a7583-35b9-4cd8-b27c-ec67683de750",
   "metadata": {},
   "outputs": [
    {
     "name": "stdin",
     "output_type": "stream",
     "text": [
      "enter the string: hi everyone\n"
     ]
    },
    {
     "name": "stdout",
     "output_type": "stream",
     "text": [
      "the modified string without spaces is =  hieveryone\n"
     ]
    }
   ],
   "source": [
    "#Get a string input from user\n",
    "user_input=input(\"enter the string:\")\n",
    "\n",
    "#removing all the spaces from the string\n",
    "new_string=user_input.replace(\" \",\"\")\n",
    "\n",
    "#display the new string\n",
    "print(\"the modified string without spaces is = \",new_string)\n"
   ]
  }
 ],
 "metadata": {
  "kernelspec": {
   "display_name": "Python 3 (ipykernel)",
   "language": "python",
   "name": "python3"
  },
  "language_info": {
   "codemirror_mode": {
    "name": "ipython",
    "version": 3
   },
   "file_extension": ".py",
   "mimetype": "text/x-python",
   "name": "python",
   "nbconvert_exporter": "python",
   "pygments_lexer": "ipython3",
   "version": "3.10.8"
  }
 },
 "nbformat": 4,
 "nbformat_minor": 5
}
